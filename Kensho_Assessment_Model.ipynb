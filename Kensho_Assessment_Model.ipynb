{
  "nbformat": 4,
  "nbformat_minor": 0,
  "metadata": {
    "colab": {
      "name": "Kensho Assessment Model",
      "provenance": [],
      "collapsed_sections": [],
      "authorship_tag": "ABX9TyP6i14qxA4GhUa5pJXe4YiV",
      "include_colab_link": true
    },
    "kernelspec": {
      "name": "python3",
      "display_name": "Python 3"
    },
    "accelerator": "TPU"
  },
  "cells": [
    {
      "cell_type": "markdown",
      "metadata": {
        "id": "view-in-github",
        "colab_type": "text"
      },
      "source": [
        "<a href=\"https://colab.research.google.com/github/rtindru/CompStats/blob/master/Kensho_Assessment_Model.ipynb\" target=\"_parent\"><img src=\"https://colab.research.google.com/assets/colab-badge.svg\" alt=\"Open In Colab\"/></a>"
      ]
    },
    {
      "cell_type": "code",
      "metadata": {
        "id": "MdeCkhtx0iHB"
      },
      "source": [
        "import pandas as pd\n",
        "import numpy as np\n",
        "import matplotlib.pyplot as plt\n",
        "plt.rcParams[\"figure.figsize\"] = (20, 4)\n",
        "import seaborn as sns\n",
        "import keras"
      ],
      "execution_count": 28,
      "outputs": []
    },
    {
      "cell_type": "code",
      "metadata": {
        "colab": {
          "base_uri": "https://localhost:8080/",
          "height": 0
        },
        "id": "NMTcfClN06TU",
        "outputId": "88306b70-6202-42ba-b9d1-3823c5d91335"
      },
      "source": [
        "from google.colab import drive\n",
        "drive.mount('/content/drive')\n",
        "PATH = \"/content/drive/My Drive/Kensho Asssessment/data/\""
      ],
      "execution_count": 29,
      "outputs": [
        {
          "output_type": "stream",
          "text": [
            "Drive already mounted at /content/drive; to attempt to forcibly remount, call drive.mount(\"/content/drive\", force_remount=True).\n"
          ],
          "name": "stdout"
        }
      ]
    },
    {
      "cell_type": "code",
      "metadata": {
        "id": "oYM54fp00pHE"
      },
      "source": [
        "tdf = pd.read_csv(PATH+'clean_train.csv')"
      ],
      "execution_count": 30,
      "outputs": []
    },
    {
      "cell_type": "code",
      "metadata": {
        "colab": {
          "base_uri": "https://localhost:8080/",
          "height": 306
        },
        "id": "onWl4X-fQVzm",
        "outputId": "3242ea96-71c3-40bd-b1e7-146a34469082"
      },
      "source": [
        "tdf.head()"
      ],
      "execution_count": 31,
      "outputs": [
        {
          "output_type": "execute_result",
          "data": {
            "text/html": [
              "<div>\n",
              "<style scoped>\n",
              "    .dataframe tbody tr th:only-of-type {\n",
              "        vertical-align: middle;\n",
              "    }\n",
              "\n",
              "    .dataframe tbody tr th {\n",
              "        vertical-align: top;\n",
              "    }\n",
              "\n",
              "    .dataframe thead th {\n",
              "        text-align: right;\n",
              "    }\n",
              "</style>\n",
              "<table border=\"1\" class=\"dataframe\">\n",
              "  <thead>\n",
              "    <tr style=\"text-align: right;\">\n",
              "      <th></th>\n",
              "      <th>Unnamed: 0</th>\n",
              "      <th>abstract</th>\n",
              "      <th>date</th>\n",
              "      <th>subject</th>\n",
              "      <th>title</th>\n",
              "      <th>month</th>\n",
              "      <th>label</th>\n",
              "      <th>clean_abstract</th>\n",
              "      <th>clean_tite</th>\n",
              "      <th>clean_text</th>\n",
              "    </tr>\n",
              "  </thead>\n",
              "  <tbody>\n",
              "    <tr>\n",
              "      <th>0</th>\n",
              "      <td>154543</td>\n",
              "      <td>We contrast analytical results of a variety ...</td>\n",
              "      <td>1992-03-28 00:00:00+00:00</td>\n",
              "      <td>condensed matter</td>\n",
              "      <td>Lack of Self-affinity and Anomalous Roughening...</td>\n",
              "      <td>1992-03-01 00:00:00+00:00</td>\n",
              "      <td>0</td>\n",
              "      <td>We contrast analytical result variety growth m...</td>\n",
              "      <td>Lack Self affinity Anomalous Roughening Growth...</td>\n",
              "      <td>Lack Self affinity Anomalous Roughening Growth...</td>\n",
              "    </tr>\n",
              "    <tr>\n",
              "      <th>1</th>\n",
              "      <td>149990</td>\n",
              "      <td>The universal dynamic and static properties ...</td>\n",
              "      <td>1992-04-10 00:00:00+00:00</td>\n",
              "      <td>condensed matter</td>\n",
              "      <td>Universal quantum critical dynamics of two-dim...</td>\n",
              "      <td>1992-04-01 00:00:00+00:00</td>\n",
              "      <td>0</td>\n",
              "      <td>The universal dynamic static property two dime...</td>\n",
              "      <td>Universal quantum critical dynamic two dimensi...</td>\n",
              "      <td>Universal quantum critical dynamic two dimensi...</td>\n",
              "    </tr>\n",
              "    <tr>\n",
              "      <th>2</th>\n",
              "      <td>149991</td>\n",
              "      <td>We show that the Halperin-Haldane SQHE wave ...</td>\n",
              "      <td>1992-04-10 00:00:00+00:00</td>\n",
              "      <td>condensed matter</td>\n",
              "      <td>Spin Singlet Quantum Hall Effect and Nonabelia...</td>\n",
              "      <td>1992-04-01 00:00:00+00:00</td>\n",
              "      <td>0</td>\n",
              "      <td>We show Halperin Haldane SQHE wave function wr...</td>\n",
              "      <td>Spin Singlet Quantum Hall Effect Nonabelian La...</td>\n",
              "      <td>Spin Singlet Quantum Hall Effect Nonabelian La...</td>\n",
              "    </tr>\n",
              "    <tr>\n",
              "      <th>3</th>\n",
              "      <td>149992</td>\n",
              "      <td>A new class of singlet superconductors with ...</td>\n",
              "      <td>1992-04-10 00:00:00+00:00</td>\n",
              "      <td>condensed matter</td>\n",
              "      <td>A novel class of singlet superconductors</td>\n",
              "      <td>1992-04-01 00:00:00+00:00</td>\n",
              "      <td>0</td>\n",
              "      <td>A new class singlet superconductors gap functi...</td>\n",
              "      <td>A novel class singlet superconductors</td>\n",
              "      <td>A novel class singlet superconductors - A new ...</td>\n",
              "    </tr>\n",
              "    <tr>\n",
              "      <th>4</th>\n",
              "      <td>149993</td>\n",
              "      <td>We find the rules which count the energy lev...</td>\n",
              "      <td>1992-04-13 00:00:00+00:00</td>\n",
              "      <td>condensed matter</td>\n",
              "      <td>Physics beyond quasi-particles: Spectrum and c...</td>\n",
              "      <td>1992-04-01 00:00:00+00:00</td>\n",
              "      <td>0</td>\n",
              "      <td>We find rule count energy level 3 state superi...</td>\n",
              "      <td>Physics beyond quasi particle Spectrum complet...</td>\n",
              "      <td>Physics beyond quasi particle Spectrum complet...</td>\n",
              "    </tr>\n",
              "  </tbody>\n",
              "</table>\n",
              "</div>"
            ],
            "text/plain": [
              "   Unnamed: 0  ...                                         clean_text\n",
              "0      154543  ...  Lack Self affinity Anomalous Roughening Growth...\n",
              "1      149990  ...  Universal quantum critical dynamic two dimensi...\n",
              "2      149991  ...  Spin Singlet Quantum Hall Effect Nonabelian La...\n",
              "3      149992  ...  A novel class singlet superconductors - A new ...\n",
              "4      149993  ...  Physics beyond quasi particle Spectrum complet...\n",
              "\n",
              "[5 rows x 10 columns]"
            ]
          },
          "metadata": {
            "tags": []
          },
          "execution_count": 31
        }
      ]
    },
    {
      "cell_type": "code",
      "metadata": {
        "colab": {
          "base_uri": "https://localhost:8080/",
          "height": 0
        },
        "id": "knEO2_woMnkA",
        "outputId": "58e869a8-82ac-487e-ed66-f4cc3a53cb4b"
      },
      "source": [
        "from keras.utils import to_categorical\n",
        "from sklearn.preprocessing import LabelEncoder\n",
        "from sklearn.preprocessing import OneHotEncoder\n",
        "from sklearn.model_selection import train_test_split\n",
        "from keras.preprocessing.text import Tokenizer\n",
        "from keras.preprocessing.sequence import pad_sequences\n",
        "\n",
        "\n",
        "MAX_NB_WORDS = 1000\n",
        "MAX_SEQUENCE_LENGTH = 50\n",
        "BATCH_SIZE = 200\n",
        "EPOCHS = 3\n",
        "\n",
        "# Data has temporality, sort so that we train on past data and predict on recent data \n",
        "tdf = tdf.sort_values('date')\n",
        "\n",
        "# Tokenize the word meanings\n",
        "tokenizer = Tokenizer(num_words=MAX_NB_WORDS)\n",
        "tokenizer.fit_on_texts(tdf.clean_tite)\n",
        "sequences = tokenizer.texts_to_sequences(tdf.clean_tite)\n",
        "word_index = tokenizer.word_index\n",
        "print('Found %s unique tokens.' % len(word_index))\n",
        "X = pd.DataFrame(pad_sequences(sequences, maxlen=MAX_SEQUENCE_LENGTH))\n",
        "\n",
        "# Label encode the word labels\n",
        "le = LabelEncoder()\n",
        "y = pd.DataFrame(le.fit_transform(tdf.subject))\n",
        "NUM_CLASSES = len(le.classes_)\n",
        "\n",
        "# Split data into train, test, and valid\n",
        "train_size = int(tdf.shape[0] * 0.75)\n",
        "X_train, X_test, y_train, y_test = X[:train_size], X[train_size:], y[:train_size], y[train_size:]\n",
        "\n",
        "print('Classes: ', NUM_CLASSES)\n",
        "print('Shape of data tensor:', X_train.shape)\n",
        "print('Shape of label tensor:', y_train.shape)\n",
        "print('Shape of data tensor:', X_test.shape)\n",
        "print('Shape of label tensor:', y_test.shape)"
      ],
      "execution_count": 52,
      "outputs": [
        {
          "output_type": "stream",
          "text": [
            "Found 31686 unique tokens.\n",
            "Classes:  30\n",
            "Shape of data tensor: (132345, 50)\n",
            "Shape of label tensor: (132345, 1)\n",
            "Shape of data tensor: (44115, 50)\n",
            "Shape of label tensor: (44115, 1)\n"
          ],
          "name": "stdout"
        }
      ]
    },
    {
      "cell_type": "code",
      "metadata": {
        "colab": {
          "base_uri": "https://localhost:8080/",
          "height": 0
        },
        "id": "W-uCVWKeN19k",
        "outputId": "e93abec8-175d-4fcb-8dc4-225c0b6d66b5"
      },
      "source": [
        "# # Preload the embedding matrix\n",
        "# EMBEDDING_DIM = 300  # same as the lenght of the keyed vector\n",
        "# import gensim\n",
        "\n",
        "# def get_coefficients(word, model):\n",
        "#   \"\"\"\n",
        "#   Helper method to return coeffs for a model; or zeros!\n",
        "#   \"\"\"\n",
        "#   try:\n",
        "#     return model.get_vector(word)\n",
        "#   except KeyError:\n",
        "#     return np.zeros(model.wv.vector_size)\n",
        "\n",
        "# gn_model = gensim.models.KeyedVectors.load_word2vec_format('/content/drive/My Drive/petrichor_new/GoogleNews-vectors-negative300.bin.gz', binary=True)\n",
        "\n",
        "# embedding_matrix = np.zeros((len(word_index) + 1, EMBEDDING_DIM))\n",
        "# for word, i in word_index.items():\n",
        "#     embedding_matrix[i] = get_coefficients(word, gn_model)"
      ],
      "execution_count": 39,
      "outputs": [
        {
          "output_type": "stream",
          "text": [
            "/usr/local/lib/python3.7/dist-packages/ipykernel_launcher.py:12: DeprecationWarning: Call to deprecated `wv` (Attribute will be removed in 4.0.0, use self instead).\n",
            "  if sys.path[0] == '':\n"
          ],
          "name": "stderr"
        }
      ]
    },
    {
      "cell_type": "code",
      "metadata": {
        "id": "y62n5aCcjRHQ"
      },
      "source": [
        "EMBEDDING_DIM = 30  # same as the lenght of the keyed vector"
      ],
      "execution_count": 53,
      "outputs": []
    },
    {
      "cell_type": "code",
      "metadata": {
        "colab": {
          "base_uri": "https://localhost:8080/",
          "height": 0
        },
        "id": "5-OcV35nNTBY",
        "outputId": "bb3733c2-54cd-439d-efbf-26455cc662e2"
      },
      "source": [
        "from keras.models import Sequential\n",
        "from keras.layers import Dense, Embedding, Dropout, SpatialDropout1D, Bidirectional\n",
        "from keras.layers import LSTM\n",
        "\n",
        "NUM_SAMPLES = len(X_train)\n",
        "LSTM_DIM = 64  # Good to go with 32/64; can be stacked\n",
        "MAX_LEN = MAX_SEQUENCE_LENGTH\n",
        "NUM_CLASSES = len(le.classes_)\n",
        "\n",
        "model = Sequential()\n",
        "model.add(Embedding(input_dim=len(word_index)+1, output_dim=EMBEDDING_DIM, input_length=MAX_LEN))\n",
        "model.add(LSTM(LSTM_DIM, dropout=0.2, recurrent_dropout=0.2, input_length=MAX_SEQUENCE_LENGTH))  # input_shape=(1, 3000, )\n",
        "model.add(Dense(NUM_CLASSES, activation='softmax'))\n",
        "model.compile(loss='categorical_crossentropy', optimizer='adam', metrics=['accuracy', 'top_k_categorical_accuracy'])\n",
        "print(model.summary())"
      ],
      "execution_count": 54,
      "outputs": [
        {
          "output_type": "stream",
          "text": [
            "Model: \"sequential_14\"\n",
            "_________________________________________________________________\n",
            "Layer (type)                 Output Shape              Param #   \n",
            "=================================================================\n",
            "embedding_9 (Embedding)      (None, 50, 30)            950610    \n",
            "_________________________________________________________________\n",
            "lstm_14 (LSTM)               (None, 64)                24320     \n",
            "_________________________________________________________________\n",
            "dense_11 (Dense)             (None, 30)                1950      \n",
            "=================================================================\n",
            "Total params: 976,880\n",
            "Trainable params: 976,880\n",
            "Non-trainable params: 0\n",
            "_________________________________________________________________\n",
            "None\n"
          ],
          "name": "stdout"
        }
      ]
    },
    {
      "cell_type": "code",
      "metadata": {
        "colab": {
          "base_uri": "https://localhost:8080/",
          "height": 0
        },
        "id": "pM40Plb1NbDp",
        "outputId": "f1f6b81c-146e-47ef-90d2-97bf8db23b0a"
      },
      "source": [
        "_y_train = keras.utils.to_categorical(y_train, num_classes=NUM_CLASSES)\n",
        "_y_test = keras.utils.to_categorical(y_test, num_classes=NUM_CLASSES)\n",
        "history = model.fit(X_train, _y_train, validation_data=(X_test, _y_test), verbose=True, epochs=EPOCHS)"
      ],
      "execution_count": 55,
      "outputs": [
        {
          "output_type": "stream",
          "text": [
            "Epoch 1/3\n",
            "4136/4136 [==============================] - 355s 84ms/step - loss: 2.0269 - accuracy: 0.3803 - top_k_categorical_accuracy: 0.7820 - val_loss: 1.7193 - val_accuracy: 0.5068 - val_top_k_categorical_accuracy: 0.8264\n",
            "Epoch 2/3\n",
            "4136/4136 [==============================] - 349s 84ms/step - loss: 1.5521 - accuracy: 0.5221 - top_k_categorical_accuracy: 0.8858 - val_loss: 1.6519 - val_accuracy: 0.5159 - val_top_k_categorical_accuracy: 0.8441\n",
            "Epoch 3/3\n",
            "4136/4136 [==============================] - 348s 84ms/step - loss: 1.5106 - accuracy: 0.5275 - top_k_categorical_accuracy: 0.8942 - val_loss: 1.6533 - val_accuracy: 0.5161 - val_top_k_categorical_accuracy: 0.8479\n"
          ],
          "name": "stdout"
        }
      ]
    },
    {
      "cell_type": "code",
      "metadata": {
        "colab": {
          "base_uri": "https://localhost:8080/",
          "height": 590
        },
        "id": "S1ZXdePNNfhR",
        "outputId": "704bb1ae-5ab3-4d49-cbf4-f5c0e02a5e29"
      },
      "source": [
        "# list all data in history\n",
        "print(history.history.keys())\n",
        "# summarize history for accuracy\n",
        "plt.plot(history.history['accuracy'])\n",
        "plt.plot(history.history['val_accuracy'])\n",
        "plt.title('model accuracy')\n",
        "plt.ylabel('accuracy')\n",
        "plt.xlabel('epoch')\n",
        "plt.legend(['train', 'test'], loc='upper left')\n",
        "plt.show()\n",
        "# summarize history for loss\n",
        "plt.plot(history.history['loss'])\n",
        "plt.plot(history.history['val_loss'])\n",
        "plt.title('model loss')\n",
        "plt.ylabel('loss')\n",
        "plt.xlabel('epoch')\n",
        "plt.legend(['train', 'test'], loc='upper left')\n",
        "plt.show()"
      ],
      "execution_count": 56,
      "outputs": [
        {
          "output_type": "stream",
          "text": [
            "dict_keys(['loss', 'accuracy', 'top_k_categorical_accuracy', 'val_loss', 'val_accuracy', 'val_top_k_categorical_accuracy'])\n"
          ],
          "name": "stdout"
        },
        {
          "output_type": "display_data",
          "data": {
            "image/png": "[encoded data removed]",
            "text/plain": [
              "<Figure size 1440x288 with 1 Axes>"
            ]
          },
          "metadata": {
            "tags": [],
            "needs_background": "light"
          }
        },
        {
          "output_type": "display_data",
          "data": {
            "image/png": "[encoded data removed]",
            "text/plain": [
              "<Figure size 1440x288 with 1 Axes>"
            ]
          },
          "metadata": {
            "tags": [],
            "needs_background": "light"
          }
        }
      ]
    },
    {
      "cell_type": "code",
      "metadata": {
        "id": "R_0rLoCnney7"
      },
      "source": [
        "# Predict on test data\n"
      ],
      "execution_count": null,
      "outputs": []
    },
    {
      "cell_type": "code",
      "metadata": {
        "id": "4uKPn-iSSZLB"
      },
      "source": [
        ""
      ],
      "execution_count": null,
      "outputs": []
    },
    {
      "cell_type": "code",
      "metadata": {
        "id": "ejTnFQYhSaC4"
      },
      "source": [
        "history = model.fit(X_train, _y_train, validation_data=(X_test, _y_test), verbose=True, epochs=EPOCHS)"
      ],
      "execution_count": null,
      "outputs": []
    },
    {
      "cell_type": "code",
      "metadata": {
        "colab": {
          "base_uri": "https://localhost:8080/",
          "height": 0
        },
        "id": "OUShRMQDlJDu",
        "outputId": "a80a733e-e7e9-4940-f5d4-a12c4dc4947a"
      },
      "source": [
        "vdf = pd.read_csv(PATH+'clean_val.csv')\n",
        "sequences = tokenizer.texts_to_sequences(vdf.clean_tite)\n",
        "word_index = tokenizer.word_index\n",
        "print('Found %s unique tokens.' % len(word_index))\n",
        "X_val = pd.DataFrame(pad_sequences(sequences, maxlen=MAX_SEQUENCE_LENGTH))"
      ],
      "execution_count": 58,
      "outputs": [
        {
          "output_type": "stream",
          "text": [
            "Found 31686 unique tokens.\n"
          ],
          "name": "stdout"
        }
      ]
    },
    {
      "cell_type": "code",
      "metadata": {
        "id": "7k34lbCBlSpa"
      },
      "source": [
        "y_pred = model.predict(X_val, )"
      ],
      "execution_count": 61,
      "outputs": []
    },
    {
      "cell_type": "code",
      "metadata": {
        "id": "rd7vmtjhlYlY"
      },
      "source": [
        "vdf['subject'] = le.inverse_transform(np.argmax(y_pred, axis=1))\n",
        "vdf['month'] = vdf['date'].astype('datetime64').apply(lambda x: x.replace(day=1))"
      ],
      "execution_count": 77,
      "outputs": []
    },
    {
      "cell_type": "code",
      "metadata": {
        "colab": {
          "base_uri": "https://localhost:8080/",
          "height": 0
        },
        "id": "TVkh_hAaof3s",
        "outputId": "098ebac7-5e3d-47c9-9a55-c0ede31cc615"
      },
      "source": [
        "vdf.dtypes"
      ],
      "execution_count": 78,
      "outputs": [
        {
          "output_type": "execute_result",
          "data": {
            "text/plain": [
              "Unnamed: 0                 int64\n",
              "abstract                  object\n",
              "date                      object\n",
              "subject                   object\n",
              "title                     object\n",
              "clean_abstract            object\n",
              "clean_tite                object\n",
              "clean_text                object\n",
              "month             datetime64[ns]\n",
              "dtype: object"
            ]
          },
          "metadata": {
            "tags": []
          },
          "execution_count": 78
        }
      ]
    },
    {
      "cell_type": "markdown",
      "metadata": {
        "id": "iyOx8Qz1ofxj"
      },
      "source": [
        ""
      ]
    },
    {
      "cell_type": "code",
      "metadata": {
        "colab": {
          "base_uri": "https://localhost:8080/",
          "height": 306
        },
        "id": "qDqMXi92oZ7C",
        "outputId": "4afbb2d6-ed7e-40bd-9413-a509114b5148"
      },
      "source": [
        "vdf.head()"
      ],
      "execution_count": 79,
      "outputs": [
        {
          "output_type": "execute_result",
          "data": {
            "text/html": [
              "<div>\n",
              "<style scoped>\n",
              "    .dataframe tbody tr th:only-of-type {\n",
              "        vertical-align: middle;\n",
              "    }\n",
              "\n",
              "    .dataframe tbody tr th {\n",
              "        vertical-align: top;\n",
              "    }\n",
              "\n",
              "    .dataframe thead th {\n",
              "        text-align: right;\n",
              "    }\n",
              "</style>\n",
              "<table border=\"1\" class=\"dataframe\">\n",
              "  <thead>\n",
              "    <tr style=\"text-align: right;\">\n",
              "      <th></th>\n",
              "      <th>Unnamed: 0</th>\n",
              "      <th>abstract</th>\n",
              "      <th>date</th>\n",
              "      <th>subject</th>\n",
              "      <th>title</th>\n",
              "      <th>clean_abstract</th>\n",
              "      <th>clean_tite</th>\n",
              "      <th>clean_text</th>\n",
              "      <th>month</th>\n",
              "    </tr>\n",
              "  </thead>\n",
              "  <tbody>\n",
              "    <tr>\n",
              "      <th>0</th>\n",
              "      <td>0</td>\n",
              "      <td>We predict by first-principles calculations ...</td>\n",
              "      <td>2014-05-01 00:00:00+00:00</td>\n",
              "      <td>superconductivity</td>\n",
              "      <td>Electron-doped phosphorene: A potential monola...</td>\n",
              "      <td>We predict first principle calculation electro...</td>\n",
              "      <td>Electron dope phosphorene A potential monolaye...</td>\n",
              "      <td>Electron dope phosphorene A potential monolaye...</td>\n",
              "      <td>2014-05-01</td>\n",
              "    </tr>\n",
              "    <tr>\n",
              "      <th>1</th>\n",
              "      <td>1</td>\n",
              "      <td>Random walk on $\\mathbb{N}$ with negative dr...</td>\n",
              "      <td>2014-05-01 00:00:00+00:00</td>\n",
              "      <td>statistical mechanics</td>\n",
              "      <td>Fleming-Viot particle system driven by a rando...</td>\n",
              "      <td>Random walk mathbb N negative drift absorption...</td>\n",
              "      <td>Fleming Viot particle system drive random walk...</td>\n",
              "      <td>Fleming Viot particle system drive random walk...</td>\n",
              "      <td>2014-05-01</td>\n",
              "    </tr>\n",
              "    <tr>\n",
              "      <th>2</th>\n",
              "      <td>2</td>\n",
              "      <td>The 0.5(BiGdxFe1-xO3)-0.5(PbZrO3) composite ...</td>\n",
              "      <td>2014-05-01 00:00:00+00:00</td>\n",
              "      <td>materials science</td>\n",
              "      <td>Effect of Electrical Properties on Gd modified...</td>\n",
              "      <td>The 0 5 BiGdxFe1 xO3 0 5 PbZrO3 composite synt...</td>\n",
              "      <td>Effect Electrical Properties Gd modify BiFeO3 ...</td>\n",
              "      <td>Effect Electrical Properties Gd modify BiFeO3 ...</td>\n",
              "      <td>2014-05-01</td>\n",
              "    </tr>\n",
              "    <tr>\n",
              "      <th>3</th>\n",
              "      <td>3</td>\n",
              "      <td>The constitutive modelling of granular, poro...</td>\n",
              "      <td>2014-05-01 00:00:00+00:00</td>\n",
              "      <td>soft condensed matter</td>\n",
              "      <td>Implicit yield function formulation for granul...</td>\n",
              "      <td>The constitutive modelling granular porous qua...</td>\n",
              "      <td>Implicit yield function formulation granular r...</td>\n",
              "      <td>Implicit yield function formulation granular r...</td>\n",
              "      <td>2014-05-01</td>\n",
              "    </tr>\n",
              "    <tr>\n",
              "      <th>4</th>\n",
              "      <td>4</td>\n",
              "      <td>Two-dimensional semiconductors such as MoS2 ...</td>\n",
              "      <td>2014-05-01 00:00:00+00:00</td>\n",
              "      <td>materials science</td>\n",
              "      <td>Large-area Epitaxial Monolayer MoS2</td>\n",
              "      <td>Two dimensional semiconductor MoS2 emerge mate...</td>\n",
              "      <td>Large area Epitaxial Monolayer MoS2</td>\n",
              "      <td>Large area Epitaxial Monolayer MoS2 - Two dime...</td>\n",
              "      <td>2014-05-01</td>\n",
              "    </tr>\n",
              "  </tbody>\n",
              "</table>\n",
              "</div>"
            ],
            "text/plain": [
              "   Unnamed: 0  ...      month\n",
              "0           0  ... 2014-05-01\n",
              "1           1  ... 2014-05-01\n",
              "2           2  ... 2014-05-01\n",
              "3           3  ... 2014-05-01\n",
              "4           4  ... 2014-05-01\n",
              "\n",
              "[5 rows x 9 columns]"
            ]
          },
          "metadata": {
            "tags": []
          },
          "execution_count": 79
        }
      ]
    },
    {
      "cell_type": "code",
      "metadata": {
        "id": "odwRG2DTnvnj"
      },
      "source": [
        "sub = vdf[['month', 'subject']].value_counts().reset_index(name=\"article_count\")"
      ],
      "execution_count": 83,
      "outputs": []
    },
    {
      "cell_type": "code",
      "metadata": {
        "colab": {
          "base_uri": "https://localhost:8080/",
          "height": 204
        },
        "id": "Z4Cbg1-xoNRj",
        "outputId": "42bf117d-b1d6-42f4-e864-ed7eed93ea5b"
      },
      "source": [
        "sub = pd.read_csv(PATH+'submission.csv')\n",
        "sub.head()"
      ],
      "execution_count": 82,
      "outputs": [
        {
          "output_type": "execute_result",
          "data": {
            "text/html": [
              "<div>\n",
              "<style scoped>\n",
              "    .dataframe tbody tr th:only-of-type {\n",
              "        vertical-align: middle;\n",
              "    }\n",
              "\n",
              "    .dataframe tbody tr th {\n",
              "        vertical-align: top;\n",
              "    }\n",
              "\n",
              "    .dataframe thead th {\n",
              "        text-align: right;\n",
              "    }\n",
              "</style>\n",
              "<table border=\"1\" class=\"dataframe\">\n",
              "  <thead>\n",
              "    <tr style=\"text-align: right;\">\n",
              "      <th></th>\n",
              "      <th>date</th>\n",
              "      <th>subject</th>\n",
              "      <th>article_count</th>\n",
              "    </tr>\n",
              "  </thead>\n",
              "  <tbody>\n",
              "    <tr>\n",
              "      <th>0</th>\n",
              "      <td>2014-05-01</td>\n",
              "      <td>condensed matter</td>\n",
              "      <td>0</td>\n",
              "    </tr>\n",
              "    <tr>\n",
              "      <th>1</th>\n",
              "      <td>2014-05-01</td>\n",
              "      <td>disordered systems and neural networks</td>\n",
              "      <td>0</td>\n",
              "    </tr>\n",
              "    <tr>\n",
              "      <th>2</th>\n",
              "      <td>2014-05-01</td>\n",
              "      <td>general relativity and quantum cosmology</td>\n",
              "      <td>0</td>\n",
              "    </tr>\n",
              "    <tr>\n",
              "      <th>3</th>\n",
              "      <td>2014-05-01</td>\n",
              "      <td>high energy physics - lattice</td>\n",
              "      <td>0</td>\n",
              "    </tr>\n",
              "    <tr>\n",
              "      <th>4</th>\n",
              "      <td>2014-05-01</td>\n",
              "      <td>high energy physics - phenomenology</td>\n",
              "      <td>0</td>\n",
              "    </tr>\n",
              "  </tbody>\n",
              "</table>\n",
              "</div>"
            ],
            "text/plain": [
              "         date                                   subject  article_count\n",
              "0  2014-05-01                          condensed matter              0\n",
              "1  2014-05-01    disordered systems and neural networks              0\n",
              "2  2014-05-01  general relativity and quantum cosmology              0\n",
              "3  2014-05-01             high energy physics - lattice              0\n",
              "4  2014-05-01       high energy physics - phenomenology              0"
            ]
          },
          "metadata": {
            "tags": []
          },
          "execution_count": 82
        }
      ]
    },
    {
      "cell_type": "code",
      "metadata": {
        "id": "M7-Z3rKCowC7"
      },
      "source": [
        "sub.sort_values('month').to_csv(PATH+'submsson0.csv')"
      ],
      "execution_count": 88,
      "outputs": []
    },
    {
      "cell_type": "code",
      "metadata": {
        "id": "8VEooNFypCMh"
      },
      "source": [
        "y_train_pred = model.predict(pd.concat([X_train, X_test]))\n",
        "tdf['pred_sub'] = le.inverse_transform(np.argmax(y_train_pred, axis=1))"
      ],
      "execution_count": 93,
      "outputs": []
    },
    {
      "cell_type": "code",
      "metadata": {
        "colab": {
          "base_uri": "https://localhost:8080/",
          "height": 0
        },
        "id": "LVFtLRNBpWwy",
        "outputId": "baed7d60-2eac-4206-b66a-0bf423814c69"
      },
      "source": [
        "def mse(df1, df2):\n",
        "    return np.sum(np.square(df1['count'] - df2['count']))/df1.shape[0]\n",
        "\n",
        "df_true = tdf[['month', 'subject']].value_counts().reset_index(name='count').set_index(['month', 'subject']).sort_values(['month', 'subject'])\n",
        "df_pred = tdf[['month', 'pred_sub']].value_counts().reset_index(name='count').set_index(['month', 'pred_sub']).sort_values(['month', 'pred_sub'])\n",
        "\n",
        "print(df_true.head())\n",
        "print(df_pred.head())\n",
        "print(mse(df_true, df_pred))"
      ],
      "execution_count": 109,
      "outputs": [
        {
          "output_type": "stream",
          "text": [
            "                                                         count\n",
            "month                     subject                             \n",
            "1992-03-01 00:00:00+00:00 condensed matter                   1\n",
            "1992-04-01 00:00:00+00:00 condensed matter                  18\n",
            "1992-05-01 00:00:00+00:00 condensed matter                  16\n",
            "                          high energy physics - lattice      3\n",
            "                          high energy physics - theory       2\n",
            "                                                                  count\n",
            "month                     pred_sub                                     \n",
            "1992-03-01 00:00:00+00:00 statistical mechanics                       1\n",
            "1992-04-01 00:00:00+00:00 condensed matter                            1\n",
            "                          disordered systems and neural networks      1\n",
            "                          materials science                           1\n",
            "                          mesoscale and nanoscale physics             1\n",
            "91764.10219399538\n"
          ],
          "name": "stdout"
        }
      ]
    },
    {
      "cell_type": "code",
      "metadata": {
        "colab": {
          "base_uri": "https://localhost:8080/",
          "height": 0
        },
        "id": "m1HXTO-uqXbD",
        "outputId": "fdc8055f-f1fb-45a0-acc8-f6d5583da322"
      },
      "source": [
        "from sklearn.metrics import classification_report\n",
        "print(classification_report(tdf.pred_sub, tdf.subject))"
      ],
      "execution_count": 103,
      "outputs": [
        {
          "output_type": "stream",
          "text": [
            "/usr/local/lib/python3.7/dist-packages/sklearn/metrics/_classification.py:1272: UndefinedMetricWarning: Recall and F-score are ill-defined and being set to 0.0 in labels with no true samples. Use `zero_division` parameter to control this behavior.\n",
            "  _warn_prf(average, modifier, msg_start, len(result))\n"
          ],
          "name": "stderr"
        },
        {
          "output_type": "stream",
          "text": [
            "                                                             precision    recall  f1-score   support\n",
            "\n",
            "                                           condensed matter       0.04      0.19      0.07      2424\n",
            "                     disordered systems and neural networks       0.42      0.44      0.43      6907\n",
            "                   general relativity and quantum cosmology       0.00      0.00      0.00         0\n",
            "                              high energy physics - lattice       0.00      0.50      0.01         6\n",
            "                        high energy physics - phenomenology       0.02      0.45      0.03        22\n",
            "                               high energy physics - theory       0.32      0.43      0.37      2140\n",
            "                                          materials science       0.62      0.53      0.57     26699\n",
            "                                       mathematical physics       0.00      0.00      0.00         0\n",
            "                                  mathematics - probability       0.00      0.00      0.00         0\n",
            "                            mesoscale and nanoscale physics       0.64      0.64      0.64     27875\n",
            "nonlinear sciences - adaptation and self-organizing systems       0.00      0.00      0.00         0\n",
            "                      nonlinear sciences - chaotic dynamics       0.09      0.35      0.14       237\n",
            "        nonlinear sciences - pattern formation and solitons       0.00      1.00      0.01         1\n",
            "                                             nuclear theory       0.03      0.75      0.06        20\n",
            "                                     other condensed matter       0.29      0.21      0.24      7909\n",
            "                                   physics - atomic physics       0.00      0.00      0.00         0\n",
            "                               physics - biological physics       0.00      0.00      0.00         0\n",
            "                                 physics - chemical physics       0.00      0.00      0.00         0\n",
            "                            physics - computational physics       0.00      0.00      0.00         0\n",
            "                                   physics - fluid dynamics       0.00      0.00      0.00         0\n",
            "                                           physics - optics       0.00      0.44      0.01         9\n",
            "                              physics - physics and society       0.00      0.60      0.01         5\n",
            "                        quantitative biology - biomolecules       0.00      0.00      0.00         0\n",
            "           quantitative biology - populations and evolution       0.00      0.00      0.00         0\n",
            "                                              quantum gases       0.10      0.48      0.16       939\n",
            "                                            quantum physics       0.29      0.44      0.35      2769\n",
            "                                      soft condensed matter       0.60      0.53      0.56     14217\n",
            "                                      statistical mechanics       0.66      0.47      0.55     34231\n",
            "                              strongly correlated electrons       0.66      0.57      0.61     27961\n",
            "                                          superconductivity       0.82      0.70      0.75     22089\n",
            "\n",
            "                                                   accuracy                           0.54    176460\n",
            "                                                  macro avg       0.19      0.32      0.19    176460\n",
            "                                               weighted avg       0.62      0.54      0.57    176460\n",
            "\n"
          ],
          "name": "stdout"
        }
      ]
    },
    {
      "cell_type": "code",
      "metadata": {
        "id": "wU6vSHe9sTMD"
      },
      "source": [
        ""
      ],
      "execution_count": null,
      "outputs": []
    }
  ]
}